{
 "cells": [
  {
   "cell_type": "code",
   "execution_count": 2,
   "metadata": {},
   "outputs": [],
   "source": [
    "library(XML)\n",
    "library(sets)\n",
    "library(repr)\n",
    "library(gtools)\n",
    "library(stringr)\n",
    "library(R.matlab)\n",
    "library(foreach)\n",
    "library(doParallel)"
   ]
  },
  {
   "cell_type": "markdown",
   "metadata": {},
   "source": [
    "#### Setup Ripser"
   ]
  },
  {
   "cell_type": "code",
   "execution_count": 3,
   "metadata": {},
   "outputs": [],
   "source": [
    "## Parse raw output from Ripser\n",
    "parseOutput = function( output ){\n",
    "    \n",
    "    ## Number of intervals by dimension\n",
    "    indices            = grep( \"persistence intervals in dim \" , output , value = FALSE )\n",
    "    maxDimension       = length( indices ) - 1\n",
    "    indices            = c( indices , length( output ) )\n",
    "    \n",
    "    ## Convert output in matrix\n",
    "    diagram = matrix(, ncol = 3, nrow = 0 )\n",
    "    \n",
    "    ## Loop each group of intervals by dimension\n",
    "    for( dim in 0:maxDimension ){\n",
    "        \n",
    "        ## Select intervals\n",
    "        if( dim == maxDimension ){\n",
    "            intervals = output[ ( indices[ dim + 1 ] + 1):( indices[ dim + 2 ] ) ]\n",
    "        }else{\n",
    "            intervals = output[ ( indices[ dim + 1 ] + 1):( indices[ dim + 2 ] - 1 ) ]\n",
    "        }\n",
    "        \n",
    "        ## Removed lines from output\n",
    "        intervals = grep( \"\\\\[\\\\d*\\\\.?\\\\d+\\\\,\\\\d*\\\\.?\\\\d+\\\\)\" , intervals , value = TRUE )\n",
    "        \n",
    "        ## Remove punctuation from intervals\n",
    "        intervals = gsub( \"(\\\\s|\\\\[|\\\\))\" , \"\" , intervals )\n",
    "        \n",
    "        ## Split interval and convert to numeric\n",
    "        intervals = as.numeric( unlist( strsplit( intervals , \",\" ) ) )\n",
    "        \n",
    "        ## Convert ouput in matrix\n",
    "        intervals = matrix( intervals , ncol = 2 , byrow = T )\n",
    "        \n",
    "        ## Add dimension column\n",
    "        intervals = cbind( rep( dim , nrow( intervals ) ) , intervals )\n",
    "        \n",
    "        ## Add intervals to diagram\n",
    "        diagram = rbind( diagram, intervals )\n",
    "        \n",
    "    }\n",
    "    \n",
    "    ## Format matrix to diagram format\n",
    "    colnames( diagram ) = c( \"dimension\" , \"Birth\" , \"Death\" )\n",
    "    \n",
    "    return( diagram )    \n",
    "}\n",
    "\n",
    "## Calculate rips diagram using Ripser library\n",
    "ripserDiag = function( X, dimension, threshold, format = \"point-cloud\" ){\n",
    "    \n",
    "    # Ripser likes to read files in, so use a temporary file\n",
    "    f = tempfile()\n",
    "    write.table(X, f, col.names = FALSE, row.names = FALSE)\n",
    "    \n",
    "    ## Set parameters as text\n",
    "    dimension = as.character( dimension )\n",
    "    threshold = as.character( threshold )\n",
    "    \n",
    "    ## Run Ripser using system command\n",
    "    ripserOut = system2(\"/home/dbhaskar92/ripser/ripser\", \n",
    "                        args = c(\"--dim\", dimension, \"--threshold\", threshold, \"--format\", format , f), \n",
    "                        stdout = TRUE)\n",
    "    \n",
    "    return( parseOutput( ripserOut ) )\n",
    "}"
   ]
  },
  {
   "cell_type": "markdown",
   "metadata": {},
   "source": [
    "#### Get list of simulations from remote file server"
   ]
  },
  {
   "cell_type": "code",
   "execution_count": 4,
   "metadata": {},
   "outputs": [
    {
     "data": {
      "text/html": [
       "<ol class=list-inline>\n",
       "\t<li>'data_icR_1_ilR_1/'</li>\n",
       "\t<li>'data_icR_1_ilR_2/'</li>\n",
       "\t<li>'data_icR_1_ilR_3/'</li>\n",
       "\t<li>'data_icR_1_ilR_4/'</li>\n",
       "\t<li>'data_icR_1_ilR_5/'</li>\n",
       "\t<li>'data_icR_2_ilR_1/'</li>\n",
       "\t<li>'data_icR_2_ilR_2/'</li>\n",
       "\t<li>'data_icR_2_ilR_3/'</li>\n",
       "\t<li>'data_icR_2_ilR_4/'</li>\n",
       "\t<li>'data_icR_2_ilR_5/'</li>\n",
       "\t<li>'data_icR_3_ilR_1/'</li>\n",
       "\t<li>'data_icR_3_ilR_2/'</li>\n",
       "\t<li>'data_icR_3_ilR_3/'</li>\n",
       "\t<li>'data_icR_3_ilR_4/'</li>\n",
       "\t<li>'data_icR_3_ilR_5/'</li>\n",
       "\t<li>'data_icR_4_ilR_1/'</li>\n",
       "\t<li>'data_icR_4_ilR_2/'</li>\n",
       "\t<li>'data_icR_4_ilR_3/'</li>\n",
       "\t<li>'data_icR_4_ilR_4/'</li>\n",
       "\t<li>'data_icR_4_ilR_5/'</li>\n",
       "\t<li>'data_icR_5_ilR_1/'</li>\n",
       "\t<li>'data_icR_5_ilR_2/'</li>\n",
       "\t<li>'data_icR_5_ilR_3/'</li>\n",
       "\t<li>'data_icR_5_ilR_4/'</li>\n",
       "\t<li>'data_icR_5_ilR_5/'</li>\n",
       "</ol>\n"
      ],
      "text/latex": [
       "\\begin{enumerate*}\n",
       "\\item 'data\\_icR\\_1\\_ilR\\_1/'\n",
       "\\item 'data\\_icR\\_1\\_ilR\\_2/'\n",
       "\\item 'data\\_icR\\_1\\_ilR\\_3/'\n",
       "\\item 'data\\_icR\\_1\\_ilR\\_4/'\n",
       "\\item 'data\\_icR\\_1\\_ilR\\_5/'\n",
       "\\item 'data\\_icR\\_2\\_ilR\\_1/'\n",
       "\\item 'data\\_icR\\_2\\_ilR\\_2/'\n",
       "\\item 'data\\_icR\\_2\\_ilR\\_3/'\n",
       "\\item 'data\\_icR\\_2\\_ilR\\_4/'\n",
       "\\item 'data\\_icR\\_2\\_ilR\\_5/'\n",
       "\\item 'data\\_icR\\_3\\_ilR\\_1/'\n",
       "\\item 'data\\_icR\\_3\\_ilR\\_2/'\n",
       "\\item 'data\\_icR\\_3\\_ilR\\_3/'\n",
       "\\item 'data\\_icR\\_3\\_ilR\\_4/'\n",
       "\\item 'data\\_icR\\_3\\_ilR\\_5/'\n",
       "\\item 'data\\_icR\\_4\\_ilR\\_1/'\n",
       "\\item 'data\\_icR\\_4\\_ilR\\_2/'\n",
       "\\item 'data\\_icR\\_4\\_ilR\\_3/'\n",
       "\\item 'data\\_icR\\_4\\_ilR\\_4/'\n",
       "\\item 'data\\_icR\\_4\\_ilR\\_5/'\n",
       "\\item 'data\\_icR\\_5\\_ilR\\_1/'\n",
       "\\item 'data\\_icR\\_5\\_ilR\\_2/'\n",
       "\\item 'data\\_icR\\_5\\_ilR\\_3/'\n",
       "\\item 'data\\_icR\\_5\\_ilR\\_4/'\n",
       "\\item 'data\\_icR\\_5\\_ilR\\_5/'\n",
       "\\end{enumerate*}\n"
      ],
      "text/markdown": [
       "1. 'data_icR_1_ilR_1/'\n",
       "2. 'data_icR_1_ilR_2/'\n",
       "3. 'data_icR_1_ilR_3/'\n",
       "4. 'data_icR_1_ilR_4/'\n",
       "5. 'data_icR_1_ilR_5/'\n",
       "6. 'data_icR_2_ilR_1/'\n",
       "7. 'data_icR_2_ilR_2/'\n",
       "8. 'data_icR_2_ilR_3/'\n",
       "9. 'data_icR_2_ilR_4/'\n",
       "10. 'data_icR_2_ilR_5/'\n",
       "11. 'data_icR_3_ilR_1/'\n",
       "12. 'data_icR_3_ilR_2/'\n",
       "13. 'data_icR_3_ilR_3/'\n",
       "14. 'data_icR_3_ilR_4/'\n",
       "15. 'data_icR_3_ilR_5/'\n",
       "16. 'data_icR_4_ilR_1/'\n",
       "17. 'data_icR_4_ilR_2/'\n",
       "18. 'data_icR_4_ilR_3/'\n",
       "19. 'data_icR_4_ilR_4/'\n",
       "20. 'data_icR_4_ilR_5/'\n",
       "21. 'data_icR_5_ilR_1/'\n",
       "22. 'data_icR_5_ilR_2/'\n",
       "23. 'data_icR_5_ilR_3/'\n",
       "24. 'data_icR_5_ilR_4/'\n",
       "25. 'data_icR_5_ilR_5/'\n",
       "\n",
       "\n"
      ],
      "text/plain": [
       " [1] \"data_icR_1_ilR_1/\" \"data_icR_1_ilR_2/\" \"data_icR_1_ilR_3/\"\n",
       " [4] \"data_icR_1_ilR_4/\" \"data_icR_1_ilR_5/\" \"data_icR_2_ilR_1/\"\n",
       " [7] \"data_icR_2_ilR_2/\" \"data_icR_2_ilR_3/\" \"data_icR_2_ilR_4/\"\n",
       "[10] \"data_icR_2_ilR_5/\" \"data_icR_3_ilR_1/\" \"data_icR_3_ilR_2/\"\n",
       "[13] \"data_icR_3_ilR_3/\" \"data_icR_3_ilR_4/\" \"data_icR_3_ilR_5/\"\n",
       "[16] \"data_icR_4_ilR_1/\" \"data_icR_4_ilR_2/\" \"data_icR_4_ilR_3/\"\n",
       "[19] \"data_icR_4_ilR_4/\" \"data_icR_4_ilR_5/\" \"data_icR_5_ilR_1/\"\n",
       "[22] \"data_icR_5_ilR_2/\" \"data_icR_5_ilR_3/\" \"data_icR_5_ilR_4/\"\n",
       "[25] \"data_icR_5_ilR_5/\""
      ]
     },
     "metadata": {},
     "output_type": "display_data"
    }
   ],
   "source": [
    "url = \"http://167.99.155.161:8000/MRC/Data/swarm_simulations/\"\n",
    "doc = htmlParse(url)\n",
    "links = xpathSApply(doc, \"//a/@href\")\n",
    "sim_dirs = vector(\"list\")\n",
    "for (i in seq(1, length(links))){\n",
    "    remote_item = unname(links[i])\n",
    "    if (str_sub(remote_item,start=-1) == .Platform$file.sep){\n",
    "           sim_dirs[i] = remote_item\n",
    "    }\n",
    "}\n",
    "paste(sim_dirs)"
   ]
  },
  {
   "cell_type": "markdown",
   "metadata": {},
   "source": [
    "#### Store (icR, ilR) parameter values for simulations of interest "
   ]
  },
  {
   "cell_type": "code",
   "execution_count": 5,
   "metadata": {},
   "outputs": [
    {
     "data": {
      "text/html": [
       "<ol class=list-inline>\n",
       "\t<li>'list(1, 1)'</li>\n",
       "\t<li>'list(2, 2)'</li>\n",
       "\t<li>'list(3, 3)'</li>\n",
       "\t<li>'list(2, 1)'</li>\n",
       "\t<li>'list(3, 1)'</li>\n",
       "\t<li>'list(4, 1)'</li>\n",
       "\t<li>'list(1, 4)'</li>\n",
       "\t<li>'list(2, 4)'</li>\n",
       "\t<li>'list(3, 4)'</li>\n",
       "</ol>\n"
      ],
      "text/latex": [
       "\\begin{enumerate*}\n",
       "\\item 'list(1, 1)'\n",
       "\\item 'list(2, 2)'\n",
       "\\item 'list(3, 3)'\n",
       "\\item 'list(2, 1)'\n",
       "\\item 'list(3, 1)'\n",
       "\\item 'list(4, 1)'\n",
       "\\item 'list(1, 4)'\n",
       "\\item 'list(2, 4)'\n",
       "\\item 'list(3, 4)'\n",
       "\\end{enumerate*}\n"
      ],
      "text/markdown": [
       "1. 'list(1, 1)'\n",
       "2. 'list(2, 2)'\n",
       "3. 'list(3, 3)'\n",
       "4. 'list(2, 1)'\n",
       "5. 'list(3, 1)'\n",
       "6. 'list(4, 1)'\n",
       "7. 'list(1, 4)'\n",
       "8. 'list(2, 4)'\n",
       "9. 'list(3, 4)'\n",
       "\n",
       "\n"
      ],
      "text/plain": [
       "[1] \"list(1, 1)\" \"list(2, 2)\" \"list(3, 3)\" \"list(2, 1)\" \"list(3, 1)\"\n",
       "[6] \"list(4, 1)\" \"list(1, 4)\" \"list(2, 4)\" \"list(3, 4)\""
      ]
     },
     "metadata": {},
     "output_type": "display_data"
    }
   ],
   "source": [
    "double_ring = list(list(1,1), list(2,2), list(3,3))\n",
    "single_mill = list(list(2,1), list(3,1), list(4,1))\n",
    "collective_swarm = list(list(1,4), list(2,4), list(3,4))\n",
    "stored_sims = c(double_ring, single_mill, collective_swarm)\n",
    "paste(stored_sims)"
   ]
  },
  {
   "cell_type": "markdown",
   "metadata": {},
   "source": [
    "#### Read MAT file stored on the fileserver over the network"
   ]
  },
  {
   "cell_type": "code",
   "execution_count": 6,
   "metadata": {},
   "outputs": [],
   "source": [
    "remote_mat_read <- function(r_url){\n",
    "    \n",
    "    mat_data = readMat(r_url)\n",
    "    N = mat_data$N            # number of particle, 200\n",
    "    alpha = mat_data$alpha    # fixed param, 1.5 \n",
    "    beta = mat_data$beta      # fixed param, 0.5\n",
    "    cA = mat_data$cA          # fixed param, 1.0\n",
    "    cR = mat_data$cR\n",
    "    iR = mat_data$iR\n",
    "    lA = mat_data$lA          # fixed param, 1.0\n",
    "    lR = mat_data$lR\n",
    "    tseries = mat_data$t\n",
    "    sim_data = mat_data$z\n",
    "    tpoints = length(tseries) # number of timesteps, 2001\n",
    "    \n",
    "    if (length(sim_data) == tpoints * 4 * N){\n",
    "        xpos = matrix(nrow = N, ncol = tpoints)\n",
    "        ypos = matrix(nrow = N, ncol = tpoints)\n",
    "        xvel = matrix(nrow = N, ncol = tpoints)\n",
    "        yvel = matrix(nrow = N, ncol = tpoints)\n",
    "        for (itr in seq(1, length(tseries))){\n",
    "            xpos[,itr] = sim_data[itr, 1:N]\n",
    "            ypos[,itr] = sim_data[itr, (N+1):(2*N)]\n",
    "            xvel[,itr] = sim_data[itr, (2*N+1):(3*N)]\n",
    "            yvel[,itr] = sim_data[itr, (3*N+1):(4*N)]\n",
    "        }\n",
    "        return(list(\"N\" = N, \"cR\" = cR, \"lR\" = lR, \"iR\" = iR,\n",
    "                   \"xpos\" = xpos, \"ypos\" = ypos, \"xvel\" = xvel, \"yvel\" = yvel))\n",
    "    } else {\n",
    "        print(\"ERROR: Unexpected file size.\")\n",
    "        return(NULL)\n",
    "    }\n",
    "    \n",
    "}"
   ]
  },
  {
   "cell_type": "markdown",
   "metadata": {},
   "source": [
    "#### Get simulation data given parameter values"
   ]
  },
  {
   "cell_type": "code",
   "execution_count": 7,
   "metadata": {},
   "outputs": [],
   "source": [
    "obtain_sim_url <- function(icR, ilR, iR){\n",
    "    \n",
    "    sep = .Platform$file.sep\n",
    "    sim_folder = paste('data_icR_', icR, '_ilR_', ilR, sep=\"\")\n",
    "    mat_file = paste('data_icR_', icR, '_ilR_', ilR, '_iR_', iR, '.mat', sep=\"\")\n",
    "    return(paste(url, sim_folder, sep, mat_file, sep=\"\"))\n",
    "    \n",
    "}"
   ]
  },
  {
   "cell_type": "markdown",
   "metadata": {},
   "source": [
    "#### Plot simulation"
   ]
  },
  {
   "cell_type": "code",
   "execution_count": 8,
   "metadata": {},
   "outputs": [],
   "source": [
    "plot_sim <- function(xpos, ypos, tpoint){\n",
    "    \n",
    "    options(repr.plot.width=5, repr.plot.height=5)\n",
    "    plot(xpos[,tpoint], ypos[,tpoint], xlab=\"X\", ylab=\"Y\")\n",
    "    \n",
    "}"
   ]
  },
  {
   "cell_type": "markdown",
   "metadata": {},
   "source": [
    "#### Get max and min position of all simulations over all time points\n",
    "**Warning:** Serial computation - *very slow*"
   ]
  },
  {
   "cell_type": "code",
   "execution_count": 9,
   "metadata": {},
   "outputs": [
    {
     "name": "stdout",
     "output_type": "stream",
     "text": [
      "Found 100 simulation files in data_icR_1_ilR_1/ \n",
      "Found 100 simulation files in data_icR_1_ilR_4/ \n",
      "Found 100 simulation files in data_icR_2_ilR_1/ \n",
      "Found 100 simulation files in data_icR_2_ilR_2/ \n",
      "Found 100 simulation files in data_icR_2_ilR_4/ \n",
      "Found 100 simulation files in data_icR_3_ilR_1/ \n",
      "Found 100 simulation files in data_icR_3_ilR_3/ \n",
      "Found 100 simulation files in data_icR_3_ilR_4/ \n",
      "Found 100 simulation files in data_icR_4_ilR_1/ \n",
      "[1] \"Max. position found: \" \"1.5349801787012\"      \n",
      "[1] \"Min. position found: \" \"-1.48421104003908\"    \n"
     ]
    }
   ],
   "source": [
    "max_pos = 0\n",
    "min_pos = 0\n",
    "\n",
    "for (sim in sim_dirs){\n",
    "    \n",
    "    icR = as.double(gsub(.Platform$file.sep, '', unlist(strsplit(sim, \"_\"))[3]))\n",
    "    ilR = as.double(gsub(.Platform$file.sep, '', unlist(strsplit(sim, \"_\"))[5]))\n",
    "    \n",
    "    if (any(sapply(stored_sims, identical, list(icR, ilR)))){\n",
    "        \n",
    "        # get list of mat files (for all realizations) for each simulation parameter\n",
    "        \n",
    "        remote_folder = paste(url, sim, sep=\"\")\n",
    "        doc = htmlParse(remote_folder)\n",
    "        links = xpathSApply(doc, \"//a/@href\")\n",
    "        sim_files = vector(\"list\")\n",
    "        for (i in seq(1, length(links))){\n",
    "            remote_item = unname(links[i])\n",
    "            if (str_sub(remote_item,start=-4) == \".mat\"){\n",
    "                sim_files[i] = remote_item\n",
    "            }\n",
    "        }\n",
    "        sim_files = mixedsort(paste(sim_files))\n",
    "        \n",
    "        cat(paste(\"Found\", length(sim_files), \"simulation files in\", sim, \"\\n\"))\n",
    "        \n",
    "        # for the first 25 realizations/replicates\n",
    "\n",
    "        for (replicate in sim_files[1:25]){\n",
    "\n",
    "            mat_url = paste(remote_folder, replicate, sep=\"\")\n",
    "            sim_data = remote_mat_read(mat_url)\n",
    "\n",
    "            # compute max and min position\n",
    "            max_sim_pos = max(max(sim_data$xpos), max(sim_data$ypos))\n",
    "            min_sim_pos = min(min(sim_data$xpos), min(sim_data$ypos))\n",
    "            if (max_sim_pos > max_pos){\n",
    "                max_pos = max_sim_pos \n",
    "            }\n",
    "            if (min_sim_pos < min_pos){\n",
    "                min_pos = min_sim_pos\n",
    "            }\n",
    "            \n",
    "        }\n",
    "            \n",
    "    }\n",
    "       \n",
    "}\n",
    "\n",
    "print(c(\"Max. position found: \", max_pos))\n",
    "print(c(\"Min. position found: \", min_pos))"
   ]
  },
  {
   "cell_type": "markdown",
   "metadata": {},
   "source": [
    "#### In parallel, normalize simulation data and compute Crocker plots"
   ]
  },
  {
   "cell_type": "code",
   "execution_count": 9,
   "metadata": {},
   "outputs": [
    {
     "name": "stdout",
     "output_type": "stream",
     "text": [
      "Number of cores: 12"
     ]
    }
   ],
   "source": [
    "cores = detectCores()\n",
    "cl = makeCluster(cores[1]-2)\n",
    "registerDoParallel(cl)\n",
    "cat(c(\"Number of cores:\",cores))"
   ]
  },
  {
   "cell_type": "code",
   "execution_count": 10,
   "metadata": {},
   "outputs": [],
   "source": [
    "max_pos = 12\n",
    "min_pos = -12\n",
    "\n",
    "for (sim in sim_dirs){\n",
    "    \n",
    "    icR = as.double(gsub(.Platform$file.sep, '', unlist(strsplit(sim, \"_\"))[3]))\n",
    "    ilR = as.double(gsub(.Platform$file.sep, '', unlist(strsplit(sim, \"_\"))[5]))\n",
    "    \n",
    "    if (any(sapply(stored_sims, identical, list(icR, ilR)))){\n",
    "        \n",
    "        cat(c(\"Processing:\", sim, \"\\n\"))\n",
    "        \n",
    "        # get list of mat files (for all realizations) for each simulation parameter\n",
    "        \n",
    "        remote_folder = paste(url, sim, sep=\"\")\n",
    "        doc = htmlParse(remote_folder)\n",
    "        links = xpathSApply(doc, \"//a/@href\")\n",
    "        sim_files = vector(\"list\")\n",
    "        for (i in seq(1, length(links))){\n",
    "            remote_item = unname(links[i])\n",
    "            if (str_sub(remote_item,start=-4) == \".mat\"){\n",
    "                sim_files[i] = remote_item\n",
    "            }\n",
    "        }\n",
    "        sim_files = mixedsort(paste(sim_files))\n",
    "        \n",
    "        # for the first 5 realizations/replicates\n",
    "\n",
    "        out <- foreach(j=1:5, .combine=cbind, .packages='R.matlab') %dopar% {\n",
    "\n",
    "            replicate = sim_files[j]\n",
    "            mat_url = paste(remote_folder, replicate, sep=\"\")\n",
    "            sim_data = remote_mat_read(mat_url)\n",
    "            \n",
    "            fname = paste('/home/dbhaskar92/anaconda2/notebook-server/MRC/', \n",
    "                          'data_icR_', icR, '_ilR_', ilR, '_iR_', j, '_CD_pos.csv', sep=\"\")\n",
    "            \n",
    "            # normalize\n",
    "            sim_data$xpos = (sim_data$xpos - min_pos)/(max_pos - min_pos)\n",
    "            sim_data$ypos = (sim_data$ypos - min_pos)/(max_pos - min_pos)\n",
    "            \n",
    "            N = dim(sim_data$xpos)[1]\n",
    "            ntpoints = dim(sim_data$xpos)[2]\n",
    "            \n",
    "            # for every 23rd time point (87 total time points)\n",
    "            tsteps = seq(1, ntpoints, by=23)\n",
    "            ntsteps = length(tsteps)\n",
    "            \n",
    "            # delta(eps) = 1e-4\n",
    "            eps_vals = seq(0, 1, by=0.0001)\n",
    "            num_eps = length(eps_vals)\n",
    "            \n",
    "            dim0Crocker = vector(mode = \"list\", length = ntsteps*num_eps)\n",
    "            dim1Crocker = vector(mode = \"list\", length = ntsteps*num_eps)\n",
    "            \n",
    "            k = 0\n",
    "            \n",
    "            for (tp in tsteps){\n",
    "                \n",
    "                xdata = sim_data$xpos[,tp]\n",
    "                ydata = sim_data$ypos[,tp]\n",
    "\n",
    "                # compute persistence homology using ripser\n",
    "                homology <- ripserDiag(cbind(xdata, ydata), 1, 5)\n",
    "                intervals = as.data.frame(homology)\n",
    "                dim0 = intervals[intervals$dimension==0,]\n",
    "                dim1 = intervals[intervals$dimension==1,]\n",
    "\n",
    "                num_feats_dim0 = dim(dim0)[1]\n",
    "                num_feats_dim1 = dim(dim1)[1]\n",
    "\n",
    "                # compute CROCKER plot\n",
    "                for (eps in eps_vals){\n",
    "        \n",
    "                    betti0 = sum((dim0$Birth < eps) & (dim0$Death > eps))\n",
    "                    betti1 = sum((dim1$Birth < eps) & (dim1$Death > eps))\n",
    "                    \n",
    "                    k = k + 1\n",
    "                    dim0Crocker[k] = toString(c(k, tp, 0, eps, betti0))\n",
    "                    dim1Crocker[k] = toString(c(ntsteps*num_eps + k, tp, 1, eps, betti1))\n",
    "\n",
    "                }\n",
    "\n",
    "            }\n",
    "            \n",
    "            # write CROCKER data to file\n",
    "            sink(fname)\n",
    "            cat(as.character(c(dim0Crocker, dim1Crocker)), sep='\\n')\n",
    "            sink()\n",
    "            \n",
    "            return(replicate)\n",
    "            \n",
    "        }\n",
    "        \n",
    "        cat(c(out, \"\\n\"))\n",
    "        cat(\"\\n\")\n",
    "    }\n",
    "       \n",
    "}"
   ]
  },
  {
   "cell_type": "code",
   "execution_count": 11,
   "metadata": {},
   "outputs": [],
   "source": [
    "stopCluster(cl)"
   ]
  },
  {
   "cell_type": "markdown",
   "metadata": {},
   "source": [
    "#### Example: Generate CROCKER plot for one simulation"
   ]
  },
  {
   "cell_type": "code",
   "execution_count": 12,
   "metadata": {},
   "outputs": [
    {
     "name": "stdout",
     "output_type": "stream",
     "text": [
      "List of 8\n",
      " $ N   : num [1, 1] 200\n",
      " $ cR  : num [1, 1] 0.1\n",
      " $ lR  : num [1, 1] 2\n",
      " $ iR  : num [1, 1] 50\n",
      " $ xpos: num [1:200, 1:2001] -0.855 -0.0959 0.2168 0.7301 0.7721 ...\n",
      " $ ypos: num [1:200, 1:2001] -0.755 0.952 -0.524 -0.819 0.132 ...\n",
      " $ xvel: num [1:200, 1:2001] -0.7016 -0.8119 0.6036 -0.0971 0.869 ...\n",
      " $ yvel: num [1:200, 1:2001] -0.29465 -0.72314 0.37137 0.00771 0.46819 ...\n"
     ]
    }
   ],
   "source": [
    "mat_url = obtain_sim_url(1, 4, 50)\n",
    "sim_data = remote_mat_read(mat_url)\n",
    "str(sim_data)"
   ]
  },
  {
   "cell_type": "code",
   "execution_count": 13,
   "metadata": {},
   "outputs": [
    {
     "data": {
      "image/png": "[encoded data removed]",
      "text/plain": [
       "plot without title"
      ]
     },
     "metadata": {},
     "output_type": "display_data"
    }
   ],
   "source": [
    "plot_sim(sim_data$xpos, sim_data$ypos, 2001)"
   ]
  },
  {
   "cell_type": "code",
   "execution_count": 14,
   "metadata": {},
   "outputs": [],
   "source": [
    "sim_data$xpos = (sim_data$xpos - min_pos)/(max_pos - min_pos)\n",
    "sim_data$ypos = (sim_data$ypos - min_pos)/(max_pos - min_pos)"
   ]
  },
  {
   "cell_type": "code",
   "execution_count": 15,
   "metadata": {},
   "outputs": [],
   "source": [
    "N = dim(sim_data$xpos)[1]\n",
    "ntpoints = dim(sim_data$xpos)[2]"
   ]
  },
  {
   "cell_type": "code",
   "execution_count": 18,
   "metadata": {},
   "outputs": [
    {
     "name": "stdout",
     "output_type": "stream",
     "text": [
      "Expected: total number of rows = # time points * # eps values = 87 * 10001 = 870087\n",
      "Got:  870087"
     ]
    }
   ],
   "source": [
    "tsteps = seq(1, ntpoints, by=23)  # 2001/3 = 667 time points, 2001/23 = 87 time points\n",
    "ntsteps = length(tsteps)\n",
    "\n",
    "eps_vals = seq(0, 1, by=0.0001)   # 1/0.0008 = 1250 eps values, 1/0.0002 = 5000 eps values   \n",
    "num_eps = length(eps_vals)\n",
    "\n",
    "dim0Crocker = vector(mode = \"list\", length = ntsteps*num_eps)\n",
    "dim1Crocker = vector(mode = \"list\", length = ntsteps*num_eps)\n",
    "orderparams = vector(mode = \"list\", length = ntsteps)\n",
    "\n",
    "i = 0\n",
    "k = 0\n",
    "\n",
    "for (tp in tsteps){                     \n",
    "    \n",
    "    xdata = sim_data$xpos[,tp]\n",
    "    ydata = sim_data$ypos[,tp]\n",
    "    xv = sim_data$xvel[,tp]\n",
    "    yv = sim_data$yvel[,tp]\n",
    "    \n",
    "    # run ripser\n",
    "    homology <- ripserDiag(cbind(xdata, ydata), 1, 2)\n",
    "    intervals = as.data.frame(homology)\n",
    "    dim0 = intervals[intervals$dimension==0,]\n",
    "    dim1 = intervals[intervals$dimension==1,]\n",
    "    \n",
    "    num_feats_dim0 = dim(dim0)[1]\n",
    "    num_feats_dim1 = dim(dim1)[1]\n",
    "    \n",
    "    # compute CROCKER plot\n",
    "    for (eps in eps_vals){\n",
    "        \n",
    "        betti0 = sum((dim0$Birth < eps) & (dim0$Death > eps))\n",
    "        betti1 = sum((dim1$Birth < eps) & (dim1$Death > eps))\n",
    "        \n",
    "        i = i + 1\n",
    "        dim0Crocker[i] = toString(c(i, tp, 0, eps, betti0))\n",
    "        dim1Crocker[i] = toString(c(ntsteps*num_eps + i, tp, 1, eps, betti1))\n",
    "        \n",
    "    }\n",
    "    \n",
    "    # compute order params\n",
    "    \n",
    "    # norm of the velocity\n",
    "    v_norm = sqrt(xv^2 + yv^2)\n",
    "    \n",
    "    # center of mass\n",
    "    c_x = mean(xdata)\n",
    "    c_y = mean(ydata)\n",
    "      \n",
    "    # mean centered positions\n",
    "    r_x = xdata - c_x\n",
    "    r_y = ydata - c_y      \n",
    "    r_norm <- sqrt(r_x^2 + r_y^2)\n",
    "    \n",
    "    # cross product\n",
    "    rvcross = r_x*yv - r_y*xv\n",
    "\n",
    "    # polarization vector\n",
    "    P = sqrt((sum(xv)/sum(v_norm))^2 + (sum(yv)/sum(v_norm))^2)\n",
    "\n",
    "    # angular momentum\n",
    "    Mang = abs(sum(rvcross)/sum(v_norm*r_norm))\n",
    "\n",
    "    # absolute angular momentum\n",
    "    Mabs = abs(sum(abs(rvcross))/sum(v_norm*r_norm))\n",
    "    \n",
    "    # distance matrices in x,y\n",
    "    Xdiff = as.matrix(dist(xdata))\n",
    "    Ydiff = as.matrix(dist(ydata))\n",
    "        \n",
    "    # total distance matrices in R^2\n",
    "    D = sqrt(Xdiff^2 + Ydiff^2)\n",
    "    # remove zeros\n",
    "    for (j in seq(1, length(D), nrow(D)+1)){\n",
    "        D[j] = Inf\n",
    "    }\n",
    "    \n",
    "    # sum mins from each row\n",
    "    min_sum = 0\n",
    "    for (j in 1:N) {\n",
    "        min_sum = min_sum + min(D[j,])\n",
    "    }\n",
    "    nnd = min_sum/N\n",
    "    \n",
    "    k = k + 1\n",
    "    orderparams[k] = toString(c(tp, P, Mang, Mabs, nnd))\n",
    "    \n",
    "}\n",
    "\n",
    "cat(\"Expected: total number of rows = # time points * # eps values = 87 * 10001 = 870087\\n\")\n",
    "cat(c(\"Got: \", i))"
   ]
  },
  {
   "cell_type": "code",
   "execution_count": 19,
   "metadata": {},
   "outputs": [],
   "source": [
    "fileConn = file(\"data_icR_1_ilR_4_iR_50_CD_pos.csv\")\n",
    "writeLines(as.character(c(dim0Crocker, dim1Crocker)), fileConn)\n",
    "close(fileConn)"
   ]
  },
  {
   "cell_type": "code",
   "execution_count": 20,
   "metadata": {},
   "outputs": [],
   "source": [
    "fileConn = file(\"data_icR_1_ilR_4_iR_50_order_params.csv\")\n",
    "writeLines(as.character(orderparams), fileConn)\n",
    "close(fileConn)"
   ]
  },
  {
   "cell_type": "code",
   "execution_count": null,
   "metadata": {},
   "outputs": [],
   "source": []
  }
 ],
 "metadata": {
  "@webio": {
   "lastCommId": "b616416e237e48cb8fe0e9609f39aa56",
   "lastKernelId": "55107d88-dd8f-4b72-948d-0ebd439f8252"
  },
  "kernelspec": {
   "display_name": "R",
   "language": "R",
   "name": "ir"
  },
  "language_info": {
   "codemirror_mode": "r",
   "file_extension": ".r",
   "mimetype": "text/x-r-source",
   "name": "R",
   "pygments_lexer": "r",
   "version": "3.4.4"
  }
 },
 "nbformat": 4,
 "nbformat_minor": 2
}
