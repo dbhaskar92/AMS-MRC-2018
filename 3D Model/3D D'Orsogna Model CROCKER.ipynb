{
 "cells": [
  {
   "cell_type": "code",
   "execution_count": 2,
   "metadata": {},
   "outputs": [
    {
     "data": {
      "text/html": [
       "<ol class=list-inline>\n",
       "\t<li>'serif'</li>\n",
       "\t<li>'sans'</li>\n",
       "\t<li>'mono'</li>\n",
       "\t<li>'AvantGarde'</li>\n",
       "\t<li>'Bookman'</li>\n",
       "\t<li>'Courier'</li>\n",
       "\t<li>'Helvetica'</li>\n",
       "\t<li>'Helvetica-Narrow'</li>\n",
       "\t<li>'NewCenturySchoolbook'</li>\n",
       "\t<li>'Palatino'</li>\n",
       "\t<li>'Times'</li>\n",
       "\t<li>'URWGothic'</li>\n",
       "\t<li>'URWBookman'</li>\n",
       "\t<li>'NimbusMon'</li>\n",
       "\t<li>'NimbusSan'</li>\n",
       "\t<li>'URWHelvetica'</li>\n",
       "\t<li>'NimbusSanCond'</li>\n",
       "\t<li>'CenturySch'</li>\n",
       "\t<li>'URWPalladio'</li>\n",
       "\t<li>'NimbusRom'</li>\n",
       "\t<li>'URWTimes'</li>\n",
       "\t<li>'ArialMT'</li>\n",
       "\t<li>'ComputerModern'</li>\n",
       "\t<li>'ComputerModernItalic'</li>\n",
       "\t<li>'Japan1'</li>\n",
       "\t<li>'Japan1HeiMin'</li>\n",
       "\t<li>'Japan1GothicBBB'</li>\n",
       "\t<li>'Japan1Ryumin'</li>\n",
       "\t<li>'Korea1'</li>\n",
       "\t<li>'Korea1deb'</li>\n",
       "\t<li>'CNS1'</li>\n",
       "\t<li>'GB1'</li>\n",
       "</ol>\n"
      ],
      "text/latex": [
       "\\begin{enumerate*}\n",
       "\\item 'serif'\n",
       "\\item 'sans'\n",
       "\\item 'mono'\n",
       "\\item 'AvantGarde'\n",
       "\\item 'Bookman'\n",
       "\\item 'Courier'\n",
       "\\item 'Helvetica'\n",
       "\\item 'Helvetica-Narrow'\n",
       "\\item 'NewCenturySchoolbook'\n",
       "\\item 'Palatino'\n",
       "\\item 'Times'\n",
       "\\item 'URWGothic'\n",
       "\\item 'URWBookman'\n",
       "\\item 'NimbusMon'\n",
       "\\item 'NimbusSan'\n",
       "\\item 'URWHelvetica'\n",
       "\\item 'NimbusSanCond'\n",
       "\\item 'CenturySch'\n",
       "\\item 'URWPalladio'\n",
       "\\item 'NimbusRom'\n",
       "\\item 'URWTimes'\n",
       "\\item 'ArialMT'\n",
       "\\item 'ComputerModern'\n",
       "\\item 'ComputerModernItalic'\n",
       "\\item 'Japan1'\n",
       "\\item 'Japan1HeiMin'\n",
       "\\item 'Japan1GothicBBB'\n",
       "\\item 'Japan1Ryumin'\n",
       "\\item 'Korea1'\n",
       "\\item 'Korea1deb'\n",
       "\\item 'CNS1'\n",
       "\\item 'GB1'\n",
       "\\end{enumerate*}\n"
      ],
      "text/markdown": [
       "1. 'serif'\n",
       "2. 'sans'\n",
       "3. 'mono'\n",
       "4. 'AvantGarde'\n",
       "5. 'Bookman'\n",
       "6. 'Courier'\n",
       "7. 'Helvetica'\n",
       "8. 'Helvetica-Narrow'\n",
       "9. 'NewCenturySchoolbook'\n",
       "10. 'Palatino'\n",
       "11. 'Times'\n",
       "12. 'URWGothic'\n",
       "13. 'URWBookman'\n",
       "14. 'NimbusMon'\n",
       "15. 'NimbusSan'\n",
       "16. 'URWHelvetica'\n",
       "17. 'NimbusSanCond'\n",
       "18. 'CenturySch'\n",
       "19. 'URWPalladio'\n",
       "20. 'NimbusRom'\n",
       "21. 'URWTimes'\n",
       "22. 'ArialMT'\n",
       "23. 'ComputerModern'\n",
       "24. 'ComputerModernItalic'\n",
       "25. 'Japan1'\n",
       "26. 'Japan1HeiMin'\n",
       "27. 'Japan1GothicBBB'\n",
       "28. 'Japan1Ryumin'\n",
       "29. 'Korea1'\n",
       "30. 'Korea1deb'\n",
       "31. 'CNS1'\n",
       "32. 'GB1'\n",
       "\n",
       "\n"
      ],
      "text/plain": [
       " [1] \"serif\"                \"sans\"                 \"mono\"                \n",
       " [4] \"AvantGarde\"           \"Bookman\"              \"Courier\"             \n",
       " [7] \"Helvetica\"            \"Helvetica-Narrow\"     \"NewCenturySchoolbook\"\n",
       "[10] \"Palatino\"             \"Times\"                \"URWGothic\"           \n",
       "[13] \"URWBookman\"           \"NimbusMon\"            \"NimbusSan\"           \n",
       "[16] \"URWHelvetica\"         \"NimbusSanCond\"        \"CenturySch\"          \n",
       "[19] \"URWPalladio\"          \"NimbusRom\"            \"URWTimes\"            \n",
       "[22] \"ArialMT\"              \"ComputerModern\"       \"ComputerModernItalic\"\n",
       "[25] \"Japan1\"               \"Japan1HeiMin\"         \"Japan1GothicBBB\"     \n",
       "[28] \"Japan1Ryumin\"         \"Korea1\"               \"Korea1deb\"           \n",
       "[31] \"CNS1\"                 \"GB1\"                 "
      ]
     },
     "metadata": {},
     "output_type": "display_data"
    }
   ],
   "source": [
    "library(XML)\n",
    "library(TDA)\n",
    "library(sets)\n",
    "library(repr)\n",
    "library(pracma)\n",
    "library(gtools)\n",
    "library(foreach)\n",
    "library(stringr)\n",
    "library(R.matlab)\n",
    "library(doParallel)\n",
    "library(scatterplot3d)\n",
    "\n",
    "library(grid)\n",
    "library(extrafont)\n",
    "library(latex2exp)\n",
    "\n",
    "library(\"ripserr\")\n",
    "library(\"graphics\")\n",
    "library(\"ggplot2\")\n",
    "library(\"scatterplot3d\")\n",
    "\n",
    "loadfonts(quiet = TRUE)\n",
    "loadfonts(device = \"postscript\", quiet = TRUE)\n",
    "\n",
    "names(postscriptFonts())"
   ]
  },
  {
   "cell_type": "code",
   "execution_count": 3,
   "metadata": {},
   "outputs": [],
   "source": [
    "## Parse raw output from Ripser\n",
    "parseOutput = function( output ){\n",
    "    \n",
    "    ## Number of intervals by dimension\n",
    "    indices            = grep( \"persistence intervals in dim \" , output , value = FALSE )\n",
    "    maxDimension       = length( indices ) - 1\n",
    "    indices            = c( indices , length( output ) )\n",
    "    \n",
    "    ## Convert output in matrix\n",
    "    diagram = matrix(, ncol = 3, nrow = 0 )\n",
    "    \n",
    "    ## Loop each group of intervals by dimension\n",
    "    for( dim in 0:maxDimension ){\n",
    "        \n",
    "        ## Select intervals\n",
    "        if( dim == maxDimension ){\n",
    "            intervals = output[ ( indices[ dim + 1 ] + 1):( indices[ dim + 2 ] ) ]\n",
    "        }else{\n",
    "            intervals = output[ ( indices[ dim + 1 ] + 1):( indices[ dim + 2 ] - 1 ) ]\n",
    "        }\n",
    "        \n",
    "        ## Removed lines from output\n",
    "        intervals = grep( \"\\\\[\\\\d*\\\\.?\\\\d+\\\\,\\\\d*\\\\.?\\\\d+\\\\)\" , intervals , value = TRUE )\n",
    "        \n",
    "        ## Remove punctuation from intervals\n",
    "        intervals = gsub( \"(\\\\s|\\\\[|\\\\))\" , \"\" , intervals )\n",
    "        \n",
    "        ## Split interval and convert to numeric\n",
    "        intervals = as.numeric( unlist( strsplit( intervals , \",\" ) ) )\n",
    "        \n",
    "        ## Convert ouput in matrix\n",
    "        intervals = matrix( intervals , ncol = 2 , byrow = T )\n",
    "        \n",
    "        ## Add dimension column\n",
    "        intervals = cbind( rep( dim , nrow( intervals ) ) , intervals )\n",
    "        \n",
    "        ## Add intervals to diagram\n",
    "        diagram = rbind( diagram, intervals )\n",
    "        \n",
    "    }\n",
    "    \n",
    "    ## Format matrix to diagram format\n",
    "    colnames(diagram) = c(\"dimension\", \"Birth\", \"Death\")\n",
    "    \n",
    "    return(diagram)    \n",
    "}\n",
    "\n",
    "## Calculate rips diagram using Ripser library\n",
    "ripserDiag = function(X, dimension, threshold, format = \"point-cloud\"){\n",
    "    \n",
    "    # Ripser likes to read files in, so use a temporary file\n",
    "    f = tempfile()\n",
    "    write.table(X, f, col.names = FALSE, row.names = FALSE)\n",
    "    \n",
    "    ## Set parameters as text\n",
    "    dimension = as.character( dimension )\n",
    "    threshold = as.character( threshold )\n",
    "    \n",
    "    ## Run Ripser using system command\n",
    "    ripserOut = system2(\"/home/dbhaskar92/ripser/ripser\", \n",
    "                        args = c(\"--dim\", dimension, \"--threshold\", threshold, \"--format\", format , f), \n",
    "                        stdout = TRUE)\n",
    "    \n",
    "    return(parseOutput(ripserOut))\n",
    "}"
   ]
  },
  {
   "cell_type": "code",
   "execution_count": 4,
   "metadata": {},
   "outputs": [],
   "source": [
    "remote_mat_read <- function(r_url){\n",
    "    \n",
    "    mat_data = readMat(r_url)\n",
    "    N = mat_data$N            # number of particle, 200\n",
    "    alpha = mat_data$alpha    # fixed param, 1.5 \n",
    "    beta = mat_data$beta      # fixed param, 0.5\n",
    "    cA = mat_data$cA          # fixed param, 1.0\n",
    "    cR = mat_data$cR\n",
    "    iR = mat_data$iR\n",
    "    lA = mat_data$lA          # fixed param, 1.0\n",
    "    lR = mat_data$lR\n",
    "    tseries = mat_data$t\n",
    "    sim_data = mat_data$z\n",
    "    tpoints = length(tseries) # number of timesteps, 2001\n",
    "    \n",
    "    if (length(sim_data) == tpoints * 6 * N){\n",
    "        xpos = matrix(nrow = N, ncol = tpoints)\n",
    "        ypos = matrix(nrow = N, ncol = tpoints)\n",
    "        zpos = matrix(nrow = N, ncol = tpoints)\n",
    "        xvel = matrix(nrow = N, ncol = tpoints)\n",
    "        yvel = matrix(nrow = N, ncol = tpoints)\n",
    "        zvel = matrix(nrow = N, ncol = tpoints)\n",
    "        for (itr in seq(1, length(tseries))){\n",
    "            xpos[,itr] = sim_data[itr, 1:N]\n",
    "            ypos[,itr] = sim_data[itr, (N+1):(2*N)]\n",
    "            zpos[,itr] = sim_data[itr, (2*N+1):(3*N)]\n",
    "            xvel[,itr] = sim_data[itr, (3*N+1):(4*N)]\n",
    "            yvel[,itr] = sim_data[itr, (4*N+1):(5*N)]\n",
    "            zvel[,itr] = sim_data[itr, (5*N+1):(6*N)]\n",
    "        }\n",
    "        xpos[xpos > 11] = 11\n",
    "        xpos[xpos < -11] = -11\n",
    "        ypos[ypos > 11] = 11\n",
    "        ypos[ypos < -11] = -11\n",
    "        zpos[zpos > 11] = 11\n",
    "        zpos[zpos < -11] = -11\n",
    "        return(list(\"N\" = N, \"cR\" = cR, \"lR\" = lR, \"iR\" = iR,\n",
    "                   \"xpos\" = xpos, \"ypos\" = ypos, \"zpos\" = zpos,\n",
    "                    \"xvel\" = xvel, \"yvel\" = yvel, \"zvel\" = zvel))\n",
    "    } else {\n",
    "        print(\"ERROR: Unexpected file size.\")\n",
    "        return(NULL)\n",
    "    }\n",
    "    \n",
    "}"
   ]
  },
  {
   "cell_type": "code",
   "execution_count": 5,
   "metadata": {},
   "outputs": [],
   "source": [
    "sim_data = remote_mat_read(\"data_long_3d_icR_3_ilR_3_cool_double_ring.mat\")"
   ]
  },
  {
   "cell_type": "code",
   "execution_count": 7,
   "metadata": {},
   "outputs": [
    {
     "name": "stdout",
     "output_type": "stream",
     "text": [
      "List of 10\n",
      " $ N   : num [1, 1] 200\n",
      " $ cR  : num [1, 1] 0.9\n",
      " $ lR  : num [1, 1] 0.9\n",
      " $ iR  : NULL\n",
      " $ xpos: num [1:200, 1:40001] -0.629 -0.812 0.746 -0.827 -0.265 ...\n",
      " $ ypos: num [1:200, 1:40001] -0.2886 0.2428 -0.6232 -0.0657 0.2985 ...\n",
      " $ zpos: num [1:200, 1:40001] 0.1542 0.8115 -0.197 0.0582 -0.3919 ...\n",
      " $ xvel: num [1:200, 1:40001] -0.701 -0.121 -0.859 -0.393 -0.166 ...\n",
      " $ yvel: num [1:200, 1:40001] -0.367 0.736 -0.445 0.779 0.765 ...\n",
      " $ zvel: num [1:200, 1:40001] -0.262 0.29 -0.994 0.552 -0.305 ...\n"
     ]
    }
   ],
   "source": [
    "str(sim_data)"
   ]
  },
  {
   "cell_type": "code",
   "execution_count": 44,
   "metadata": {},
   "outputs": [],
   "source": [
    "plot_sim <- function(xpos, ypos, zpos, tpoint){\n",
    "    \n",
    "    options(repr.plot.width=5, repr.plot.height=5)\n",
    "    scatterplot3d(xpos[,tpoint], ypos[,tpoint], zpos[,tpoint], xlab=\"X\", ylab=\"Y\", zlab=\"Z\")\n",
    "    \n",
    "}"
   ]
  },
  {
   "cell_type": "code",
   "execution_count": 12,
   "metadata": {},
   "outputs": [],
   "source": [
    "max_sim_vel = max(max(sim_data$xvel), max(sim_data$yvel), max(sim_data$zvel))\n",
    "min_sim_vel = min(min(sim_data$xvel), min(sim_data$yvel), min(sim_data$zvel))"
   ]
  },
  {
   "cell_type": "code",
   "execution_count": 15,
   "metadata": {},
   "outputs": [],
   "source": [
    "max_pos = 12\n",
    "min_pos = -12\n",
    "max_vel = 12 \n",
    "min_vel = -12\n",
    "\n",
    "sim_data$xpos = (sim_data$xpos - min_pos)/(max_pos - min_pos)\n",
    "sim_data$ypos = (sim_data$ypos - min_pos)/(max_pos - min_pos)\n",
    "sim_data$zpos = (sim_data$zpos - min_pos)/(max_pos - min_pos)\n",
    "sim_data$xvel = (sim_data$xvel - min_vel)/(max_vel - min_vel)\n",
    "sim_data$yvel = (sim_data$yvel - min_vel)/(max_vel - min_vel)\n",
    "sim_data$zvel = (sim_data$zvel - min_vel)/(max_vel - min_vel)"
   ]
  },
  {
   "cell_type": "code",
   "execution_count": 50,
   "metadata": {},
   "outputs": [
    {
     "data": {
      "image/png": "[encoded data removed]",
      "text/plain": [
       "plot without title"
      ]
     },
     "metadata": {},
     "output_type": "display_data"
    }
   ],
   "source": [
    "plot_sim(sim_data$xpos, sim_data$ypos, sim_data$zpos, 20000)"
   ]
  },
  {
   "cell_type": "code",
   "execution_count": 49,
   "metadata": {},
   "outputs": [
    {
     "data": {
      "image/png": "[encoded data removed]",
      "text/plain": [
       "plot without title"
      ]
     },
     "metadata": {},
     "output_type": "display_data"
    }
   ],
   "source": [
    "plot_sim(sim_data$xvel, sim_data$yvel, sim_data$zvel, 20000)"
   ]
  },
  {
   "cell_type": "code",
   "execution_count": 33,
   "metadata": {},
   "outputs": [],
   "source": [
    "N = dim(sim_data$xpos)[1]\n",
    "ntpoints = dim(sim_data$xpos)[2]"
   ]
  },
  {
   "cell_type": "code",
   "execution_count": 35,
   "metadata": {},
   "outputs": [],
   "source": [
    "tsteps = seq(1, ntpoints, by=181)  # 40001/181 = 221 time points\n",
    "ntsteps = length(tsteps)\n",
    "\n",
    "eps_vals = logseq(0.0001, 1, n = 200)  \n",
    "num_eps = length(eps_vals)\n",
    "\n",
    "dim0Crocker = vector(mode = \"list\", length = (ntsteps-1)*num_eps)\n",
    "dim1Crocker = vector(mode = \"list\", length = (ntsteps-1)*num_eps)\n",
    "orderparams = vector(mode = \"list\", length = ntsteps-1)"
   ]
  },
  {
   "cell_type": "code",
   "execution_count": 39,
   "metadata": {},
   "outputs": [
    {
     "name": "stdout",
     "output_type": "stream",
     "text": [
      "Expected: total number of rows = # time points * # eps values = 220 * 200 = 44000\n",
      "Got:  44200"
     ]
    }
   ],
   "source": [
    "i = 0\n",
    "k = 0\n",
    "\n",
    "for (tp in tsteps){  \n",
    "    \n",
    "    #if (tp == 1){\n",
    "    #    next\n",
    "    #}\n",
    "    \n",
    "    xdata = sim_data$xpos[,tp]\n",
    "    ydata = sim_data$ypos[,tp]\n",
    "    zdata = sim_data$zpos[,tp]\n",
    "    xv = sim_data$xvel[,tp]\n",
    "    yv = sim_data$yvel[,tp]\n",
    "    zv = sim_data$zvel[,tp]\n",
    "    xdata_old = sim_data$xpos[,tp-5]\n",
    "    ydata_old = sim_data$ypos[,tp-5]\n",
    "    zdata_old = sim_data$zpos[,tp-5]\n",
    "    \n",
    "    # run ripser\n",
    "    homology <- ripserDiag(cbind(xdata, ydata, zdata, xv, yv, zv), 1, 50)\n",
    "    intervals = as.data.frame(homology)\n",
    "    dim0 = intervals[intervals$dimension==0,]\n",
    "    dim1 = intervals[intervals$dimension==1,]\n",
    "    \n",
    "    num_feats_dim0 = dim(dim0)[1]\n",
    "    num_feats_dim1 = dim(dim1)[1]\n",
    "    \n",
    "    # compute CROCKER plot\n",
    "    for (eps in eps_vals){\n",
    "        \n",
    "        betti0 = sum((dim0$Birth < eps) & (dim0$Death > eps))\n",
    "        betti1 = sum((dim1$Birth < eps) & (dim1$Death > eps))\n",
    "        \n",
    "        i = i + 1\n",
    "        \n",
    "        if (i == 1){\n",
    "            dim0Crocker[i] = toString(c(i, tp, 0, eps, N))\n",
    "        } else {\n",
    "            dim0Crocker[i] = toString(c(i, tp, 0, eps, betti0+1))\n",
    "        }\n",
    "        \n",
    "        dim1Crocker[i] = toString(c(ntsteps*num_eps + i, tp, 1, eps, betti1))\n",
    "        \n",
    "    }\n",
    "    \n",
    "    # compute order params\n",
    "    \n",
    "    # norm of the velocity\n",
    "    v_norm = sqrt(xv^2 + yv^2 + zv^2)\n",
    "    \n",
    "    # center of mass\n",
    "    c_x = mean(xdata)\n",
    "    c_y = mean(ydata)\n",
    "    c_z = mean(zdata)\n",
    "      \n",
    "    # mean centered positions\n",
    "    r_x = xdata - c_x\n",
    "    r_y = ydata - c_y\n",
    "    r_z = zdata - c_z\n",
    "    r_norm = sqrt(r_x^2 + r_y^2 + r_z^2)\n",
    "\n",
    "    # polarization vector\n",
    "    P = sqrt((sum(xv)/sum(v_norm))^2 + (sum(yv)/sum(v_norm))^2 + (sum(zv)/sum(v_norm))^2)\n",
    "    \n",
    "    k = k + 1\n",
    "    orderparams[k] = toString(c(tp, P, 0, 0, 0))\n",
    "    \n",
    "}\n",
    "\n",
    "cat(\"Expected: total number of rows = # time points * # eps values = 220 * 200 = 44000\\n\")\n",
    "cat(c(\"Got: \", i))"
   ]
  },
  {
   "cell_type": "code",
   "execution_count": 40,
   "metadata": {},
   "outputs": [],
   "source": [
    "fileConn = file(\"data_long_3d_icR_3_ilR_3_cool_double_ring_CD_pos_vel.csv\")\n",
    "writeLines(as.character(c(dim0Crocker, dim1Crocker)), fileConn)\n",
    "close(fileConn)"
   ]
  },
  {
   "cell_type": "code",
   "execution_count": 38,
   "metadata": {},
   "outputs": [],
   "source": [
    "fileConn = file(\"data_long_3d_icR_3_ilR_3_cool_double_ring_order_params.csv\")\n",
    "writeLines(as.character(orderparams), fileConn)\n",
    "close(fileConn)"
   ]
  },
  {
   "cell_type": "code",
   "execution_count": null,
   "metadata": {},
   "outputs": [],
   "source": []
  }
 ],
 "metadata": {
  "kernelspec": {
   "display_name": "R",
   "language": "R",
   "name": "ir"
  },
  "language_info": {
   "codemirror_mode": "r",
   "file_extension": ".r",
   "mimetype": "text/x-r-source",
   "name": "R",
   "pygments_lexer": "r",
   "version": "3.4.4"
  }
 },
 "nbformat": 4,
 "nbformat_minor": 2
}
