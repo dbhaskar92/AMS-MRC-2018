{
 "cells": [
  {
   "cell_type": "code",
   "execution_count": 1,
   "metadata": {},
   "outputs": [],
   "source": [
    "import numpy as np\n",
    "import scipy.io as io\n",
    "import ipyvolume as ipv"
   ]
  },
  {
   "cell_type": "markdown",
   "metadata": {},
   "source": [
    "#### Notes:\n",
    "- Mill -> Double Ring -> Flock\n",
    "    - icR: 3, ilR: 3, iR: 1\n",
    "    - data_long_3d_icR_3_ilR_3_cool_double_ring.mat\n",
    "    - X, Y, Z range : (-1.5, 1.5)\n",
    "- Mill -> Flocking mill\n",
    "    - icR: 4, ilR: 2, iR: 1\n",
    "    - data_long_3d_icR_4_ilR_2_single_mill_flock.mat\n",
    "    - X, Y, Z range : (-2.5, 2.5)\n",
    "- Mill -> Flocking mill\n",
    "    - icR: 4, ilR: 1, iR: 1\n",
    "    - data_3d_icR_4_ilR_1_iR_1.mat\n",
    "    - X, Y, Z range : (-1, 1)\n",
    "- Milling in groups\n",
    "    - icR: 3, ilR: 2, iR: 5\n",
    "    - data_3d_icR_3_ilR_2_iR_5.mat\n",
    "    - X, Y, Z range : (-1, 1)\n",
    "- Escape\n",
    "    - In groups: data_3d_icR_5_ilR_2_iR_1.mat\n",
    "    - Uniformly: data_3d_icR_5_ilR_4_iR_1.mat\n",
    "    - X, Y, Z range : (-10, 10)"
   ]
  },
  {
   "cell_type": "code",
   "execution_count": 2,
   "metadata": {},
   "outputs": [],
   "source": [
    "dr_filename = 'data_long_3d_icR_3_ilR_3_cool_double_ring.mat'\n",
    "dr_mat = io.loadmat(dr_filename)"
   ]
  },
  {
   "cell_type": "code",
   "execution_count": 3,
   "metadata": {},
   "outputs": [
    {
     "name": "stdout",
     "output_type": "stream",
     "text": [
      "Num time points: 40001\n",
      "Num particles: 200\n",
      "Data shape: (40001, 1200)\n"
     ]
    }
   ],
   "source": [
    "num_time_points = len(dr_mat['t'])\n",
    "num_particles = dr_mat['N'][0][0]\n",
    "num_cols = np.shape(dr_mat['z'])[1]\n",
    "\n",
    "print 'Num time points: ' + repr(num_time_points)\n",
    "print 'Num particles: ' + repr(num_particles)\n",
    "print 'Data shape: ' + repr(np.shape(dr_mat['z']))"
   ]
  },
  {
   "cell_type": "code",
   "execution_count": 4,
   "metadata": {},
   "outputs": [
    {
     "name": "stdout",
     "output_type": "stream",
     "text": [
      "8001\n"
     ]
    }
   ],
   "source": [
    "particle_data = np.zeros((6, num_time_points, num_particles))\n",
    "\n",
    "times_saved = []\n",
    "cnt = 0\n",
    "\n",
    "for i in range(0, len(dr_mat['t']), 5):\n",
    "    \n",
    "    particle_data[0, cnt, :] = dr_mat['z'][i][0:num_particles]\n",
    "    particle_data[1, cnt, :] = dr_mat['z'][i][num_particles:2*num_particles]\n",
    "    particle_data[2, cnt, :] = dr_mat['z'][i][2*num_particles:3*num_particles]\n",
    "    \n",
    "    particle_data[3, cnt, :] = dr_mat['z'][i][3*num_particles:4*num_particles]\n",
    "    particle_data[4, cnt, :] = dr_mat['z'][i][4*num_particles:5*num_particles]\n",
    "    particle_data[5, cnt, :] = dr_mat['z'][i][5*num_particles:6*num_particles]\n",
    "    \n",
    "    times_saved.append(i)\n",
    "    cnt = cnt + 1\n",
    "\n",
    "print len(times_saved)"
   ]
  },
  {
   "cell_type": "code",
   "execution_count": 5,
   "metadata": {},
   "outputs": [
    {
     "data": {
      "application/vnd.jupyter.widget-view+json": {
       "model_id": "1ec3921a622d483585b96943291acb8f",
       "version_major": 2,
       "version_minor": 0
      },
      "text/plain": [
       "VkJveChjaGlsZHJlbj0oRmlndXJlKGFuaW1hdGlvbj0zMDAuMCwgYW5pbWF0aW9uX2V4cG9uZW50PTEuMCwgY2FtZXJhX2NlbnRlcj1bMC4wLCAwLjAsIDAuMF0sIGhlaWdodD04MDAsIG1hdHLigKY=\n"
      ]
     },
     "metadata": {},
     "output_type": "display_data"
    }
   ],
   "source": [
    "fig = ipv.figure(width=900, height=800)\n",
    "q = ipv.quiver(*particle_data[:,0:len(times_saved)-1,:], color=\"red\", size=5)\n",
    "ipv.style.use(\"dark\")\n",
    "ipv.animation_control(q, interval=300)\n",
    "ipv.xyzlim(-1.5, 1.5)\n",
    "ipv.show()"
   ]
  },
  {
   "cell_type": "code",
   "execution_count": null,
   "metadata": {},
   "outputs": [],
   "source": []
  }
 ],
 "metadata": {
  "kernelspec": {
   "display_name": "Python 2",
   "language": "python",
   "name": "python2"
  },
  "language_info": {
   "codemirror_mode": {
    "name": "ipython",
    "version": 2
   },
   "file_extension": ".py",
   "mimetype": "text/x-python",
   "name": "python",
   "nbconvert_exporter": "python",
   "pygments_lexer": "ipython2",
   "version": "2.7.15"
  }
 },
 "nbformat": 4,
 "nbformat_minor": 2
}
